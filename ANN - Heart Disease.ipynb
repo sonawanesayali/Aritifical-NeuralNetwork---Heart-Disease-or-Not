{
 "cells": [
  {
   "cell_type": "code",
   "execution_count": 172,
   "metadata": {},
   "outputs": [],
   "source": [
    "import pandas as pd\n",
    "import numpy as np\n"
   ]
  },
  {
   "cell_type": "code",
   "execution_count": 173,
   "metadata": {},
   "outputs": [],
   "source": [
    "# add header names\n",
    "headers =  ['age', 'sex','chest_pain','resting_blood_pressure',  \n",
    "        'serum_cholestoral', 'fasting_blood_sugar', 'resting_ecg_results',\n",
    "        'max_heart_rate_achieved', 'exercise_induced_angina', 'oldpeak',\"slope of the peak\",\n",
    "        'num_of_major_vessels','thal', 'heart_disease']\n",
    "\n",
    "heart_df = pd.read_csv('heart.dat', sep=' ', names=headers)"
   ]
  },
  {
   "cell_type": "code",
   "execution_count": 174,
   "metadata": {},
   "outputs": [
    {
     "data": {
      "text/html": [
       "<div>\n",
       "<style scoped>\n",
       "    .dataframe tbody tr th:only-of-type {\n",
       "        vertical-align: middle;\n",
       "    }\n",
       "\n",
       "    .dataframe tbody tr th {\n",
       "        vertical-align: top;\n",
       "    }\n",
       "\n",
       "    .dataframe thead th {\n",
       "        text-align: right;\n",
       "    }\n",
       "</style>\n",
       "<table border=\"1\" class=\"dataframe\">\n",
       "  <thead>\n",
       "    <tr style=\"text-align: right;\">\n",
       "      <th></th>\n",
       "      <th>age</th>\n",
       "      <th>sex</th>\n",
       "      <th>chest_pain</th>\n",
       "      <th>resting_blood_pressure</th>\n",
       "      <th>serum_cholestoral</th>\n",
       "      <th>fasting_blood_sugar</th>\n",
       "      <th>resting_ecg_results</th>\n",
       "      <th>max_heart_rate_achieved</th>\n",
       "      <th>exercise_induced_angina</th>\n",
       "      <th>oldpeak</th>\n",
       "      <th>slope of the peak</th>\n",
       "      <th>num_of_major_vessels</th>\n",
       "      <th>thal</th>\n",
       "      <th>heart_disease</th>\n",
       "    </tr>\n",
       "  </thead>\n",
       "  <tbody>\n",
       "    <tr>\n",
       "      <th>0</th>\n",
       "      <td>70.0</td>\n",
       "      <td>1.0</td>\n",
       "      <td>4.0</td>\n",
       "      <td>130.0</td>\n",
       "      <td>322.0</td>\n",
       "      <td>0.0</td>\n",
       "      <td>2.0</td>\n",
       "      <td>109.0</td>\n",
       "      <td>0.0</td>\n",
       "      <td>2.4</td>\n",
       "      <td>2.0</td>\n",
       "      <td>3.0</td>\n",
       "      <td>3.0</td>\n",
       "      <td>2</td>\n",
       "    </tr>\n",
       "    <tr>\n",
       "      <th>1</th>\n",
       "      <td>67.0</td>\n",
       "      <td>0.0</td>\n",
       "      <td>3.0</td>\n",
       "      <td>115.0</td>\n",
       "      <td>564.0</td>\n",
       "      <td>0.0</td>\n",
       "      <td>2.0</td>\n",
       "      <td>160.0</td>\n",
       "      <td>0.0</td>\n",
       "      <td>1.6</td>\n",
       "      <td>2.0</td>\n",
       "      <td>0.0</td>\n",
       "      <td>7.0</td>\n",
       "      <td>1</td>\n",
       "    </tr>\n",
       "    <tr>\n",
       "      <th>2</th>\n",
       "      <td>57.0</td>\n",
       "      <td>1.0</td>\n",
       "      <td>2.0</td>\n",
       "      <td>124.0</td>\n",
       "      <td>261.0</td>\n",
       "      <td>0.0</td>\n",
       "      <td>0.0</td>\n",
       "      <td>141.0</td>\n",
       "      <td>0.0</td>\n",
       "      <td>0.3</td>\n",
       "      <td>1.0</td>\n",
       "      <td>0.0</td>\n",
       "      <td>7.0</td>\n",
       "      <td>2</td>\n",
       "    </tr>\n",
       "    <tr>\n",
       "      <th>3</th>\n",
       "      <td>64.0</td>\n",
       "      <td>1.0</td>\n",
       "      <td>4.0</td>\n",
       "      <td>128.0</td>\n",
       "      <td>263.0</td>\n",
       "      <td>0.0</td>\n",
       "      <td>0.0</td>\n",
       "      <td>105.0</td>\n",
       "      <td>1.0</td>\n",
       "      <td>0.2</td>\n",
       "      <td>2.0</td>\n",
       "      <td>1.0</td>\n",
       "      <td>7.0</td>\n",
       "      <td>1</td>\n",
       "    </tr>\n",
       "    <tr>\n",
       "      <th>4</th>\n",
       "      <td>74.0</td>\n",
       "      <td>0.0</td>\n",
       "      <td>2.0</td>\n",
       "      <td>120.0</td>\n",
       "      <td>269.0</td>\n",
       "      <td>0.0</td>\n",
       "      <td>2.0</td>\n",
       "      <td>121.0</td>\n",
       "      <td>1.0</td>\n",
       "      <td>0.2</td>\n",
       "      <td>1.0</td>\n",
       "      <td>1.0</td>\n",
       "      <td>3.0</td>\n",
       "      <td>1</td>\n",
       "    </tr>\n",
       "  </tbody>\n",
       "</table>\n",
       "</div>"
      ],
      "text/plain": [
       "    age  sex  chest_pain  resting_blood_pressure  serum_cholestoral  \\\n",
       "0  70.0  1.0         4.0                   130.0              322.0   \n",
       "1  67.0  0.0         3.0                   115.0              564.0   \n",
       "2  57.0  1.0         2.0                   124.0              261.0   \n",
       "3  64.0  1.0         4.0                   128.0              263.0   \n",
       "4  74.0  0.0         2.0                   120.0              269.0   \n",
       "\n",
       "   fasting_blood_sugar  resting_ecg_results  max_heart_rate_achieved  \\\n",
       "0                  0.0                  2.0                    109.0   \n",
       "1                  0.0                  2.0                    160.0   \n",
       "2                  0.0                  0.0                    141.0   \n",
       "3                  0.0                  0.0                    105.0   \n",
       "4                  0.0                  2.0                    121.0   \n",
       "\n",
       "   exercise_induced_angina  oldpeak  slope of the peak  num_of_major_vessels  \\\n",
       "0                      0.0      2.4                2.0                   3.0   \n",
       "1                      0.0      1.6                2.0                   0.0   \n",
       "2                      0.0      0.3                1.0                   0.0   \n",
       "3                      1.0      0.2                2.0                   1.0   \n",
       "4                      1.0      0.2                1.0                   1.0   \n",
       "\n",
       "   thal  heart_disease  \n",
       "0   3.0              2  \n",
       "1   7.0              1  \n",
       "2   7.0              2  \n",
       "3   7.0              1  \n",
       "4   3.0              1  "
      ]
     },
     "execution_count": 174,
     "metadata": {},
     "output_type": "execute_result"
    }
   ],
   "source": [
    "heart_df.head()"
   ]
  },
  {
   "cell_type": "code",
   "execution_count": 175,
   "metadata": {},
   "outputs": [
    {
     "data": {
      "text/plain": [
       "(270, 14)"
      ]
     },
     "execution_count": 175,
     "metadata": {},
     "output_type": "execute_result"
    }
   ],
   "source": [
    "heart_df.shape"
   ]
  },
  {
   "cell_type": "code",
   "execution_count": 176,
   "metadata": {},
   "outputs": [
    {
     "data": {
      "text/plain": [
       "age                        0\n",
       "sex                        0\n",
       "chest_pain                 0\n",
       "resting_blood_pressure     0\n",
       "serum_cholestoral          0\n",
       "fasting_blood_sugar        0\n",
       "resting_ecg_results        0\n",
       "max_heart_rate_achieved    0\n",
       "exercise_induced_angina    0\n",
       "oldpeak                    0\n",
       "slope of the peak          0\n",
       "num_of_major_vessels       0\n",
       "thal                       0\n",
       "heart_disease              0\n",
       "dtype: int64"
      ]
     },
     "execution_count": 176,
     "metadata": {},
     "output_type": "execute_result"
    }
   ],
   "source": [
    "heart_df.isna().sum()"
   ]
  },
  {
   "cell_type": "code",
   "execution_count": 177,
   "metadata": {},
   "outputs": [
    {
     "data": {
      "text/plain": [
       "age                        float64\n",
       "sex                        float64\n",
       "chest_pain                 float64\n",
       "resting_blood_pressure     float64\n",
       "serum_cholestoral          float64\n",
       "fasting_blood_sugar        float64\n",
       "resting_ecg_results        float64\n",
       "max_heart_rate_achieved    float64\n",
       "exercise_induced_angina    float64\n",
       "oldpeak                    float64\n",
       "slope of the peak          float64\n",
       "num_of_major_vessels       float64\n",
       "thal                       float64\n",
       "heart_disease                int64\n",
       "dtype: object"
      ]
     },
     "execution_count": 177,
     "metadata": {},
     "output_type": "execute_result"
    }
   ],
   "source": [
    "heart_df.dtypes"
   ]
  },
  {
   "cell_type": "code",
   "execution_count": 178,
   "metadata": {},
   "outputs": [],
   "source": [
    "X = heart_df.drop(columns=['heart_disease'])\n",
    "\n",
    "#replace target class with 0 and 1 \n",
    "#1 means \"have heart disease\" and 0 means \"do not have heart disease\"\n",
    "heart_df['heart_disease'] = heart_df['heart_disease'].replace(1, 0)\n",
    "heart_df['heart_disease'] = heart_df['heart_disease'].replace(2, 1)\n",
    "\n",
    "y = heart_df['heart_disease'].values.reshape(X.shape[0], 1)"
   ]
  },
  {
   "cell_type": "code",
   "execution_count": 179,
   "metadata": {},
   "outputs": [
    {
     "data": {
      "text/html": [
       "<div>\n",
       "<style scoped>\n",
       "    .dataframe tbody tr th:only-of-type {\n",
       "        vertical-align: middle;\n",
       "    }\n",
       "\n",
       "    .dataframe tbody tr th {\n",
       "        vertical-align: top;\n",
       "    }\n",
       "\n",
       "    .dataframe thead th {\n",
       "        text-align: right;\n",
       "    }\n",
       "</style>\n",
       "<table border=\"1\" class=\"dataframe\">\n",
       "  <thead>\n",
       "    <tr style=\"text-align: right;\">\n",
       "      <th></th>\n",
       "      <th>age</th>\n",
       "      <th>sex</th>\n",
       "      <th>chest_pain</th>\n",
       "      <th>resting_blood_pressure</th>\n",
       "      <th>serum_cholestoral</th>\n",
       "      <th>fasting_blood_sugar</th>\n",
       "      <th>resting_ecg_results</th>\n",
       "      <th>max_heart_rate_achieved</th>\n",
       "      <th>exercise_induced_angina</th>\n",
       "      <th>oldpeak</th>\n",
       "      <th>slope of the peak</th>\n",
       "      <th>num_of_major_vessels</th>\n",
       "      <th>thal</th>\n",
       "    </tr>\n",
       "  </thead>\n",
       "  <tbody>\n",
       "    <tr>\n",
       "      <th>0</th>\n",
       "      <td>70.0</td>\n",
       "      <td>1.0</td>\n",
       "      <td>4.0</td>\n",
       "      <td>130.0</td>\n",
       "      <td>322.0</td>\n",
       "      <td>0.0</td>\n",
       "      <td>2.0</td>\n",
       "      <td>109.0</td>\n",
       "      <td>0.0</td>\n",
       "      <td>2.4</td>\n",
       "      <td>2.0</td>\n",
       "      <td>3.0</td>\n",
       "      <td>3.0</td>\n",
       "    </tr>\n",
       "    <tr>\n",
       "      <th>1</th>\n",
       "      <td>67.0</td>\n",
       "      <td>0.0</td>\n",
       "      <td>3.0</td>\n",
       "      <td>115.0</td>\n",
       "      <td>564.0</td>\n",
       "      <td>0.0</td>\n",
       "      <td>2.0</td>\n",
       "      <td>160.0</td>\n",
       "      <td>0.0</td>\n",
       "      <td>1.6</td>\n",
       "      <td>2.0</td>\n",
       "      <td>0.0</td>\n",
       "      <td>7.0</td>\n",
       "    </tr>\n",
       "    <tr>\n",
       "      <th>2</th>\n",
       "      <td>57.0</td>\n",
       "      <td>1.0</td>\n",
       "      <td>2.0</td>\n",
       "      <td>124.0</td>\n",
       "      <td>261.0</td>\n",
       "      <td>0.0</td>\n",
       "      <td>0.0</td>\n",
       "      <td>141.0</td>\n",
       "      <td>0.0</td>\n",
       "      <td>0.3</td>\n",
       "      <td>1.0</td>\n",
       "      <td>0.0</td>\n",
       "      <td>7.0</td>\n",
       "    </tr>\n",
       "    <tr>\n",
       "      <th>3</th>\n",
       "      <td>64.0</td>\n",
       "      <td>1.0</td>\n",
       "      <td>4.0</td>\n",
       "      <td>128.0</td>\n",
       "      <td>263.0</td>\n",
       "      <td>0.0</td>\n",
       "      <td>0.0</td>\n",
       "      <td>105.0</td>\n",
       "      <td>1.0</td>\n",
       "      <td>0.2</td>\n",
       "      <td>2.0</td>\n",
       "      <td>1.0</td>\n",
       "      <td>7.0</td>\n",
       "    </tr>\n",
       "    <tr>\n",
       "      <th>4</th>\n",
       "      <td>74.0</td>\n",
       "      <td>0.0</td>\n",
       "      <td>2.0</td>\n",
       "      <td>120.0</td>\n",
       "      <td>269.0</td>\n",
       "      <td>0.0</td>\n",
       "      <td>2.0</td>\n",
       "      <td>121.0</td>\n",
       "      <td>1.0</td>\n",
       "      <td>0.2</td>\n",
       "      <td>1.0</td>\n",
       "      <td>1.0</td>\n",
       "      <td>3.0</td>\n",
       "    </tr>\n",
       "  </tbody>\n",
       "</table>\n",
       "</div>"
      ],
      "text/plain": [
       "    age  sex  chest_pain  resting_blood_pressure  serum_cholestoral  \\\n",
       "0  70.0  1.0         4.0                   130.0              322.0   \n",
       "1  67.0  0.0         3.0                   115.0              564.0   \n",
       "2  57.0  1.0         2.0                   124.0              261.0   \n",
       "3  64.0  1.0         4.0                   128.0              263.0   \n",
       "4  74.0  0.0         2.0                   120.0              269.0   \n",
       "\n",
       "   fasting_blood_sugar  resting_ecg_results  max_heart_rate_achieved  \\\n",
       "0                  0.0                  2.0                    109.0   \n",
       "1                  0.0                  2.0                    160.0   \n",
       "2                  0.0                  0.0                    141.0   \n",
       "3                  0.0                  0.0                    105.0   \n",
       "4                  0.0                  2.0                    121.0   \n",
       "\n",
       "   exercise_induced_angina  oldpeak  slope of the peak  num_of_major_vessels  \\\n",
       "0                      0.0      2.4                2.0                   3.0   \n",
       "1                      0.0      1.6                2.0                   0.0   \n",
       "2                      0.0      0.3                1.0                   0.0   \n",
       "3                      1.0      0.2                2.0                   1.0   \n",
       "4                      1.0      0.2                1.0                   1.0   \n",
       "\n",
       "   thal  \n",
       "0   3.0  \n",
       "1   7.0  \n",
       "2   7.0  \n",
       "3   7.0  \n",
       "4   3.0  "
      ]
     },
     "execution_count": 179,
     "metadata": {},
     "output_type": "execute_result"
    }
   ],
   "source": [
    "X.head()"
   ]
  },
  {
   "cell_type": "code",
   "execution_count": null,
   "metadata": {},
   "outputs": [],
   "source": []
  },
  {
   "cell_type": "code",
   "execution_count": 180,
   "metadata": {},
   "outputs": [
    {
     "data": {
      "text/plain": [
       "Text(0, 0.5, 'Number of heart patient')"
      ]
     },
     "execution_count": 180,
     "metadata": {},
     "output_type": "execute_result"
    },
    {
     "data": {
      "image/png": "[encoded data removed]",
      "text/plain": [
       "<Figure size 720x576 with 1 Axes>"
      ]
     },
     "metadata": {
      "needs_background": "light"
     },
     "output_type": "display_data"
    }
   ],
   "source": [
    "import matplotlib\n",
    "import matplotlib.pyplot as plt\n",
    "import seaborn as sns\n",
    "\n",
    "%matplotlib inline\n",
    "\n",
    "\n",
    "plt.figure(figsize=(10,8))\n",
    "sns.countplot(x='age', data=heart_df)\n",
    "plt.xlabel(\"age\")\n",
    "plt.ylabel(\"Number of heart patient\")\n"
   ]
  },
  {
   "cell_type": "code",
   "execution_count": 181,
   "metadata": {},
   "outputs": [
    {
     "data": {
      "text/plain": [
       "Text(0, 0.5, 'Number of heart patient')"
      ]
     },
     "execution_count": 181,
     "metadata": {},
     "output_type": "execute_result"
    },
    {
     "data": {
      "image/png": "[encoded data removed]",
      "text/plain": [
       "<Figure size 720x576 with 1 Axes>"
      ]
     },
     "metadata": {
      "needs_background": "light"
     },
     "output_type": "display_data"
    }
   ],
   "source": [
    "plt.figure(figsize=(10,8))\n",
    "sns.countplot(x='sex', data=heart_df)\n",
    "plt.xlabel(\"sex\")\n",
    "plt.ylabel(\"Number of heart patient\")"
   ]
  },
  {
   "cell_type": "code",
   "execution_count": 182,
   "metadata": {},
   "outputs": [],
   "source": [
    "from sklearn.model_selection import train_test_split\n",
    "from sklearn.preprocessing import StandardScaler\n",
    "\n",
    "#split data into train and test set\n",
    "\n",
    "X_train, X_test, y_train, y_test = train_test_split(X, y, test_size = 0.2, random_state = 0)\n",
    "\n",
    "# Feature Scaling\n",
    "from sklearn.preprocessing import StandardScaler\n",
    "sc = StandardScaler()\n",
    "X_train = sc.fit_transform(X_train)\n",
    "X_test = sc.transform(X_test)"
   ]
  },
  {
   "cell_type": "code",
   "execution_count": 183,
   "metadata": {},
   "outputs": [],
   "source": [
    "import tensorflow as tf\n",
    "from tensorflow import keras\n",
    "from tensorflow.keras.models import Sequential\n",
    "from tensorflow.keras import layers\n",
    "\n",
    "# Initialising the ANN\n",
    "classifier = Sequential()\n",
    "\n",
    "classifier.add(Dense(12, activation='relu'))\n",
    "classifier.add(Dense(8,activation='relu'))\n",
    "classifier.add(Dense(1, activation='sigmoid'))\n",
    "\n",
    "# compile the keras model\n",
    "classifier.compile(loss='binary_crossentropy', optimizer='adam', metrics=['accuracy'])"
   ]
  },
  {
   "cell_type": "code",
   "execution_count": 185,
   "metadata": {},
   "outputs": [
    {
     "name": "stdout",
     "output_type": "stream",
     "text": [
      "Train on 216 samples\n",
      "216/216 [==============================] - 4s 20ms/sample - loss: 0.6747 - accuracy: 0.5463\n"
     ]
    },
    {
     "data": {
      "text/plain": [
       "<tensorflow.python.keras.callbacks.History at 0x19005488>"
      ]
     },
     "execution_count": 185,
     "metadata": {},
     "output_type": "execute_result"
    }
   ],
   "source": [
    "# fit the keras model on the dataset\n",
    "classifier.fit(X_train, y_train)"
   ]
  },
  {
   "cell_type": "code",
   "execution_count": 190,
   "metadata": {},
   "outputs": [
    {
     "name": "stdout",
     "output_type": "stream",
     "text": [
      "216/1 [================================================================================================================================================================================================================================================================================================================================================================================================================================================================================================================================================================================================================================================================================================================================================================================================================================================================================================================================================================================================================================================================================================================================================================================================================================================================================================================================================================================================================================================================================================================================================================================================================================================================================================================================================================================================================================================================================================================================================================================================================================================================================================================================================================================================================================================================================================================================================================================================================================================================================================================================================================================================================================================================================================================================================================================================================================================================================================================================================================================================================================================================================================================================================================================================================================================================================================================================================================================================================================================================================================================================================================================================================================================================================================================================================================================================================================================================================================================================================================================================================================================================================================================================================================================================================================================================================================================================================================================================================================================================================================================================================================================================================================================================================================================================================================================================================================================================================================================================================================================================================================================================================================================================================================================================================================================================================================================================================================================================================================================================================================================================================================================================================================================================================================================================================================================================================================================================================================================================================================================================================================================================================================================================================================================================================================================================================================================================================================================================================================================================================================================================================================================================================================================================================================================================================] - 0s 704us/sample - loss: 0.6752 - accuracy: 0.5648\n",
      "[0.6630582434159739, 0.5648148, 0.6630582434159739, 0.5648148, 0.6630582434159739, 0.5648148, 0.6630582434159739, 0.5648148, 0.6630582434159739, 0.5648148, 0.6630582434159739, 0.5648148, 0.6630582434159739, 0.5648148, 0.6630582434159739, 0.5648148, 0.6630582434159739, 0.5648148, 0.6630582434159739, 0.5648148, 0.6630582434159739, 0.5648148, 0.6630582434159739, 0.5648148, 0.6630582434159739, 0.5648148, 0.6630582434159739, 0.5648148, 0.6630582434159739, 0.5648148, 0.6630582434159739, 0.5648148, 0.6630582434159739, 0.5648148, 0.6630582434159739, 0.5648148, 0.6630582434159739, 0.5648148, 0.6630582434159739, 0.5648148, 0.6630582434159739, 0.5648148, 0.6630582434159739, 0.5648148, 0.6630582434159739, 0.5648148, 0.6630582434159739, 0.5648148, 0.6630582434159739, 0.5648148, 0.6630582434159739, 0.5648148, 0.6630582434159739, 0.5648148, 0.6630582434159739, 0.5648148, 0.6630582434159739, 0.5648148, 0.6630582434159739, 0.5648148, 0.6630582434159739, 0.5648148, 0.6630582434159739, 0.5648148, 0.6630582434159739, 0.5648148, 0.6630582434159739, 0.5648148, 0.6630582434159739, 0.5648148, 0.6630582434159739, 0.5648148, 0.6630582434159739, 0.5648148, 0.6630582434159739, 0.5648148, 0.6630582434159739, 0.5648148, 0.6630582434159739, 0.5648148, 0.6630582434159739, 0.5648148, 0.6630582434159739, 0.5648148, 0.6630582434159739, 0.5648148, 0.6630582434159739, 0.5648148, 0.6630582434159739, 0.5648148, 0.6630582434159739, 0.5648148, 0.6630582434159739, 0.5648148, 0.6630582434159739, 0.5648148, 0.6630582434159739, 0.5648148, 0.6630582434159739, 0.5648148, 0.6630582434159739, 0.5648148, 0.6630582434159739, 0.5648148, 0.6630582434159739, 0.5648148, 0.6630582434159739, 0.5648148, 0.6630582434159739, 0.5648148, 0.6630582434159739, 0.5648148, 0.6630582434159739, 0.5648148, 0.6630582434159739, 0.5648148, 0.6630582434159739, 0.5648148, 0.6630582434159739, 0.5648148, 0.6630582434159739, 0.5648148, 0.6630582434159739, 0.5648148, 0.6630582434159739, 0.5648148, 0.6630582434159739, 0.5648148, 0.6630582434159739, 0.5648148, 0.6630582434159739, 0.5648148, 0.6630582434159739, 0.5648148, 0.6630582434159739, 0.5648148, 0.6630582434159739, 0.5648148, 0.6630582434159739, 0.5648148, 0.6630582434159739, 0.5648148, 0.6630582434159739, 0.5648148, 0.6630582434159739, 0.5648148, 0.6630582434159739, 0.5648148, 0.6630582434159739, 0.5648148, 0.6630582434159739, 0.5648148, 0.6630582434159739, 0.5648148, 0.6630582434159739, 0.5648148, 0.6630582434159739, 0.5648148, 0.6630582434159739, 0.5648148, 0.6630582434159739, 0.5648148, 0.6630582434159739, 0.5648148, 0.6630582434159739, 0.5648148, 0.6630582434159739, 0.5648148, 0.6630582434159739, 0.5648148, 0.6630582434159739, 0.5648148, 0.6630582434159739, 0.5648148, 0.6630582434159739, 0.5648148, 0.6630582434159739, 0.5648148, 0.6630582434159739, 0.5648148, 0.6630582434159739, 0.5648148, 0.6630582434159739, 0.5648148, 0.6630582434159739, 0.5648148, 0.6630582434159739, 0.5648148, 0.6630582434159739, 0.5648148, 0.6630582434159739, 0.5648148, 0.6630582434159739, 0.5648148, 0.6630582434159739, 0.5648148, 0.6630582434159739, 0.5648148, 0.6630582434159739, 0.5648148]\n"
     ]
    }
   ],
   "source": [
    "# evaluate the keras model\n",
    "accuracy = classifier.evaluate(X_train, y_train)\n",
    "print(accuracy*100)"
   ]
  },
  {
   "cell_type": "code",
   "execution_count": 191,
   "metadata": {},
   "outputs": [
    {
     "name": "stdout",
     "output_type": "stream",
     "text": [
      "WARNING:tensorflow:The `nb_epoch` argument in `fit` has been renamed `epochs`.\n",
      "Train on 144 samples, validate on 72 samples\n",
      "Epoch 1/100\n",
      "144/144 [==============================] - 0s 347us/sample - loss: 0.6506 - accuracy: 0.5972 - val_loss: 0.6259 - val_accuracy: 0.6944\n",
      "Epoch 2/100\n",
      "144/144 [==============================] - 0s 340us/sample - loss: 0.6232 - accuracy: 0.6667 - val_loss: 0.5951 - val_accuracy: 0.8194\n",
      "Epoch 3/100\n",
      "144/144 [==============================] - 0s 319us/sample - loss: 0.5997 - accuracy: 0.7083 - val_loss: 0.5679 - val_accuracy: 0.8333\n",
      "Epoch 4/100\n",
      "144/144 [==============================] - 0s 306us/sample - loss: 0.5776 - accuracy: 0.7639 - val_loss: 0.5429 - val_accuracy: 0.8611\n",
      "Epoch 5/100\n",
      "144/144 [==============================] - 0s 417us/sample - loss: 0.5565 - accuracy: 0.7847 - val_loss: 0.5175 - val_accuracy: 0.8889\n",
      "Epoch 6/100\n",
      "144/144 [==============================] - 0s 368us/sample - loss: 0.5351 - accuracy: 0.7917 - val_loss: 0.4923 - val_accuracy: 0.9028\n",
      "Epoch 7/100\n",
      "144/144 [==============================] - 0s 333us/sample - loss: 0.5127 - accuracy: 0.8194 - val_loss: 0.4678 - val_accuracy: 0.9167\n",
      "Epoch 8/100\n",
      "144/144 [==============================] - 0s 326us/sample - loss: 0.4920 - accuracy: 0.8264 - val_loss: 0.4452 - val_accuracy: 0.9028\n",
      "Epoch 9/100\n",
      "144/144 [==============================] - 0s 361us/sample - loss: 0.4729 - accuracy: 0.8194 - val_loss: 0.4263 - val_accuracy: 0.9028\n",
      "Epoch 10/100\n",
      "144/144 [==============================] - 0s 319us/sample - loss: 0.4562 - accuracy: 0.8333 - val_loss: 0.4105 - val_accuracy: 0.9167\n",
      "Epoch 11/100\n",
      "144/144 [==============================] - 0s 340us/sample - loss: 0.4413 - accuracy: 0.8333 - val_loss: 0.3940 - val_accuracy: 0.9167\n",
      "Epoch 12/100\n",
      "144/144 [==============================] - 0s 361us/sample - loss: 0.4289 - accuracy: 0.8403 - val_loss: 0.3799 - val_accuracy: 0.9167\n",
      "Epoch 13/100\n",
      "144/144 [==============================] - 0s 319us/sample - loss: 0.4168 - accuracy: 0.8403 - val_loss: 0.3667 - val_accuracy: 0.9167\n",
      "Epoch 14/100\n",
      "144/144 [==============================] - 0s 319us/sample - loss: 0.4054 - accuracy: 0.8611 - val_loss: 0.3560 - val_accuracy: 0.9028\n",
      "Epoch 15/100\n",
      "144/144 [==============================] - 0s 347us/sample - loss: 0.3950 - accuracy: 0.8750 - val_loss: 0.3470 - val_accuracy: 0.9167\n",
      "Epoch 16/100\n",
      "144/144 [==============================] - 0s 319us/sample - loss: 0.3871 - accuracy: 0.8750 - val_loss: 0.3363 - val_accuracy: 0.9167\n",
      "Epoch 17/100\n",
      "144/144 [==============================] - 0s 375us/sample - loss: 0.3782 - accuracy: 0.8819 - val_loss: 0.3292 - val_accuracy: 0.9167\n",
      "Epoch 18/100\n",
      "144/144 [==============================] - 0s 333us/sample - loss: 0.3708 - accuracy: 0.8819 - val_loss: 0.3233 - val_accuracy: 0.9167\n",
      "Epoch 19/100\n",
      "144/144 [==============================] - 0s 326us/sample - loss: 0.3641 - accuracy: 0.8889 - val_loss: 0.3166 - val_accuracy: 0.9167\n",
      "Epoch 20/100\n",
      "144/144 [==============================] - 0s 639us/sample - loss: 0.3578 - accuracy: 0.8889 - val_loss: 0.3124 - val_accuracy: 0.9167\n",
      "Epoch 21/100\n",
      "144/144 [==============================] - 0s 361us/sample - loss: 0.3517 - accuracy: 0.8889 - val_loss: 0.3087 - val_accuracy: 0.9028\n",
      "Epoch 22/100\n",
      "144/144 [==============================] - 0s 326us/sample - loss: 0.3468 - accuracy: 0.8958 - val_loss: 0.3061 - val_accuracy: 0.9028\n",
      "Epoch 23/100\n",
      "144/144 [==============================] - 0s 347us/sample - loss: 0.3418 - accuracy: 0.8958 - val_loss: 0.3026 - val_accuracy: 0.9028\n",
      "Epoch 24/100\n",
      "144/144 [==============================] - 0s 326us/sample - loss: 0.3376 - accuracy: 0.8958 - val_loss: 0.3004 - val_accuracy: 0.9028\n",
      "Epoch 25/100\n",
      "144/144 [==============================] - 0s 361us/sample - loss: 0.3329 - accuracy: 0.8958 - val_loss: 0.2983 - val_accuracy: 0.9028\n",
      "Epoch 26/100\n",
      "144/144 [==============================] - 0s 333us/sample - loss: 0.3290 - accuracy: 0.8958 - val_loss: 0.2956 - val_accuracy: 0.9028\n",
      "Epoch 27/100\n",
      "144/144 [==============================] - 0s 326us/sample - loss: 0.3257 - accuracy: 0.8958 - val_loss: 0.2935 - val_accuracy: 0.9028\n",
      "Epoch 28/100\n",
      "144/144 [==============================] - 0s 333us/sample - loss: 0.3215 - accuracy: 0.8958 - val_loss: 0.2943 - val_accuracy: 0.9028\n",
      "Epoch 29/100\n",
      "144/144 [==============================] - 0s 326us/sample - loss: 0.3180 - accuracy: 0.8958 - val_loss: 0.2944 - val_accuracy: 0.9028\n",
      "Epoch 30/100\n",
      "144/144 [==============================] - 0s 319us/sample - loss: 0.3154 - accuracy: 0.8958 - val_loss: 0.2940 - val_accuracy: 0.9028\n",
      "Epoch 31/100\n",
      "144/144 [==============================] - 0s 340us/sample - loss: 0.3117 - accuracy: 0.8958 - val_loss: 0.2925 - val_accuracy: 0.8750\n",
      "Epoch 32/100\n",
      "144/144 [==============================] - 0s 375us/sample - loss: 0.3084 - accuracy: 0.8958 - val_loss: 0.2918 - val_accuracy: 0.8750\n",
      "Epoch 33/100\n",
      "144/144 [==============================] - 0s 333us/sample - loss: 0.3056 - accuracy: 0.8958 - val_loss: 0.2906 - val_accuracy: 0.8750\n",
      "Epoch 34/100\n",
      "144/144 [==============================] - 0s 326us/sample - loss: 0.3022 - accuracy: 0.8958 - val_loss: 0.2896 - val_accuracy: 0.8750\n",
      "Epoch 35/100\n",
      "144/144 [==============================] - 0s 389us/sample - loss: 0.2991 - accuracy: 0.8958 - val_loss: 0.2891 - val_accuracy: 0.8750\n",
      "Epoch 36/100\n",
      "144/144 [==============================] - 0s 361us/sample - loss: 0.2962 - accuracy: 0.8958 - val_loss: 0.2885 - val_accuracy: 0.8750\n",
      "Epoch 37/100\n",
      "144/144 [==============================] - 0s 319us/sample - loss: 0.2928 - accuracy: 0.8958 - val_loss: 0.2875 - val_accuracy: 0.8750\n",
      "Epoch 38/100\n",
      "144/144 [==============================] - 0s 306us/sample - loss: 0.2901 - accuracy: 0.8958 - val_loss: 0.2871 - val_accuracy: 0.8750\n",
      "Epoch 39/100\n",
      "144/144 [==============================] - 0s 382us/sample - loss: 0.2869 - accuracy: 0.8958 - val_loss: 0.2870 - val_accuracy: 0.8750\n",
      "Epoch 40/100\n",
      "144/144 [==============================] - 0s 431us/sample - loss: 0.2833 - accuracy: 0.8958 - val_loss: 0.2873 - val_accuracy: 0.8750\n",
      "Epoch 41/100\n",
      "144/144 [==============================] - 0s 639us/sample - loss: 0.2793 - accuracy: 0.8958 - val_loss: 0.2889 - val_accuracy: 0.8750\n",
      "Epoch 42/100\n",
      "144/144 [==============================] - 0s 361us/sample - loss: 0.2761 - accuracy: 0.8958 - val_loss: 0.2894 - val_accuracy: 0.8889\n",
      "Epoch 43/100\n",
      "144/144 [==============================] - 0s 375us/sample - loss: 0.2720 - accuracy: 0.8958 - val_loss: 0.2889 - val_accuracy: 0.8889\n",
      "Epoch 44/100\n",
      "144/144 [==============================] - 0s 347us/sample - loss: 0.2680 - accuracy: 0.8958 - val_loss: 0.2891 - val_accuracy: 0.8889\n",
      "Epoch 45/100\n",
      "144/144 [==============================] - 0s 299us/sample - loss: 0.2649 - accuracy: 0.8958 - val_loss: 0.2897 - val_accuracy: 0.8889\n",
      "Epoch 46/100\n",
      "144/144 [==============================] - 0s 389us/sample - loss: 0.2620 - accuracy: 0.9028 - val_loss: 0.2910 - val_accuracy: 0.8889\n",
      "Epoch 47/100\n",
      "144/144 [==============================] - 0s 271us/sample - loss: 0.2590 - accuracy: 0.9097 - val_loss: 0.2913 - val_accuracy: 0.8889\n",
      "Epoch 48/100\n",
      "144/144 [==============================] - 0s 361us/sample - loss: 0.2562 - accuracy: 0.9097 - val_loss: 0.2916 - val_accuracy: 0.8889\n",
      "Epoch 49/100\n",
      "144/144 [==============================] - 0s 340us/sample - loss: 0.2543 - accuracy: 0.9097 - val_loss: 0.2921 - val_accuracy: 0.8889\n",
      "Epoch 50/100\n",
      "144/144 [==============================] - 0s 306us/sample - loss: 0.2514 - accuracy: 0.9097 - val_loss: 0.2925 - val_accuracy: 0.8889\n",
      "Epoch 51/100\n",
      "144/144 [==============================] - 0s 347us/sample - loss: 0.2496 - accuracy: 0.9097 - val_loss: 0.2957 - val_accuracy: 0.8889\n",
      "Epoch 52/100\n",
      "144/144 [==============================] - 0s 340us/sample - loss: 0.2452 - accuracy: 0.9097 - val_loss: 0.2955 - val_accuracy: 0.9028\n",
      "Epoch 53/100\n",
      "144/144 [==============================] - 0s 354us/sample - loss: 0.2429 - accuracy: 0.9097 - val_loss: 0.2960 - val_accuracy: 0.9028\n",
      "Epoch 54/100\n",
      "144/144 [==============================] - 0s 313us/sample - loss: 0.2408 - accuracy: 0.9097 - val_loss: 0.2957 - val_accuracy: 0.9028\n",
      "Epoch 55/100\n"
     ]
    },
    {
     "name": "stdout",
     "output_type": "stream",
     "text": [
      "144/144 [==============================] - 0s 354us/sample - loss: 0.2388 - accuracy: 0.9097 - val_loss: 0.2968 - val_accuracy: 0.9028\n",
      "Epoch 56/100\n",
      "144/144 [==============================] - 0s 333us/sample - loss: 0.2359 - accuracy: 0.9097 - val_loss: 0.2983 - val_accuracy: 0.9028\n",
      "Epoch 57/100\n",
      "144/144 [==============================] - 0s 319us/sample - loss: 0.2338 - accuracy: 0.9097 - val_loss: 0.2989 - val_accuracy: 0.9028\n",
      "Epoch 58/100\n",
      "144/144 [==============================] - 0s 306us/sample - loss: 0.2312 - accuracy: 0.9097 - val_loss: 0.3005 - val_accuracy: 0.9028\n",
      "Epoch 59/100\n",
      "144/144 [==============================] - 0s 340us/sample - loss: 0.2292 - accuracy: 0.9097 - val_loss: 0.3015 - val_accuracy: 0.9028\n",
      "Epoch 60/100\n",
      "144/144 [==============================] - 0s 319us/sample - loss: 0.2272 - accuracy: 0.9097 - val_loss: 0.3019 - val_accuracy: 0.9028\n",
      "Epoch 61/100\n",
      "144/144 [==============================] - 0s 313us/sample - loss: 0.2255 - accuracy: 0.9097 - val_loss: 0.3031 - val_accuracy: 0.9028\n",
      "Epoch 62/100\n",
      "144/144 [==============================] - 0s 458us/sample - loss: 0.2228 - accuracy: 0.9097 - val_loss: 0.3042 - val_accuracy: 0.9028\n",
      "Epoch 63/100\n",
      "144/144 [==============================] - 0s 667us/sample - loss: 0.2212 - accuracy: 0.9097 - val_loss: 0.3057 - val_accuracy: 0.9028\n",
      "Epoch 64/100\n",
      "144/144 [==============================] - 0s 396us/sample - loss: 0.2188 - accuracy: 0.9097 - val_loss: 0.3067 - val_accuracy: 0.9028\n",
      "Epoch 65/100\n",
      "144/144 [==============================] - 0s 306us/sample - loss: 0.2176 - accuracy: 0.9097 - val_loss: 0.3086 - val_accuracy: 0.9028\n",
      "Epoch 66/100\n",
      "144/144 [==============================] - 0s 285us/sample - loss: 0.2148 - accuracy: 0.9097 - val_loss: 0.3092 - val_accuracy: 0.9028\n",
      "Epoch 67/100\n",
      "144/144 [==============================] - 0s 319us/sample - loss: 0.2134 - accuracy: 0.9097 - val_loss: 0.3112 - val_accuracy: 0.9028\n",
      "Epoch 68/100\n",
      "144/144 [==============================] - 0s 326us/sample - loss: 0.2109 - accuracy: 0.9167 - val_loss: 0.3124 - val_accuracy: 0.9028\n",
      "Epoch 69/100\n",
      "144/144 [==============================] - 0s 313us/sample - loss: 0.2089 - accuracy: 0.9167 - val_loss: 0.3135 - val_accuracy: 0.9028\n",
      "Epoch 70/100\n",
      "144/144 [==============================] - 0s 313us/sample - loss: 0.2073 - accuracy: 0.9167 - val_loss: 0.3155 - val_accuracy: 0.9028\n",
      "Epoch 71/100\n",
      "144/144 [==============================] - 0s 299us/sample - loss: 0.2058 - accuracy: 0.9167 - val_loss: 0.3161 - val_accuracy: 0.9028\n",
      "Epoch 72/100\n",
      "144/144 [==============================] - 0s 333us/sample - loss: 0.2036 - accuracy: 0.9236 - val_loss: 0.3169 - val_accuracy: 0.9028\n",
      "Epoch 73/100\n",
      "144/144 [==============================] - 0s 306us/sample - loss: 0.2020 - accuracy: 0.9236 - val_loss: 0.3183 - val_accuracy: 0.9028\n",
      "Epoch 74/100\n",
      "144/144 [==============================] - 0s 319us/sample - loss: 0.2006 - accuracy: 0.9306 - val_loss: 0.3206 - val_accuracy: 0.9028\n",
      "Epoch 75/100\n",
      "144/144 [==============================] - 0s 299us/sample - loss: 0.1988 - accuracy: 0.9375 - val_loss: 0.3220 - val_accuracy: 0.9028\n",
      "Epoch 76/100\n",
      "144/144 [==============================] - 0s 333us/sample - loss: 0.1974 - accuracy: 0.9375 - val_loss: 0.3226 - val_accuracy: 0.9028\n",
      "Epoch 77/100\n",
      "144/144 [==============================] - 0s 326us/sample - loss: 0.1958 - accuracy: 0.9375 - val_loss: 0.3249 - val_accuracy: 0.9028\n",
      "Epoch 78/100\n",
      "144/144 [==============================] - 0s 354us/sample - loss: 0.1938 - accuracy: 0.9375 - val_loss: 0.3255 - val_accuracy: 0.9028\n",
      "Epoch 79/100\n",
      "144/144 [==============================] - 0s 500us/sample - loss: 0.1931 - accuracy: 0.9375 - val_loss: 0.3280 - val_accuracy: 0.9028\n",
      "Epoch 80/100\n",
      "144/144 [==============================] - 0s 326us/sample - loss: 0.1904 - accuracy: 0.9375 - val_loss: 0.3291 - val_accuracy: 0.9028\n",
      "Epoch 81/100\n",
      "144/144 [==============================] - 0s 285us/sample - loss: 0.1890 - accuracy: 0.9444 - val_loss: 0.3309 - val_accuracy: 0.9028\n",
      "Epoch 82/100\n",
      "144/144 [==============================] - 0s 299us/sample - loss: 0.1874 - accuracy: 0.9444 - val_loss: 0.3330 - val_accuracy: 0.9028\n",
      "Epoch 83/100\n",
      "144/144 [==============================] - 0s 368us/sample - loss: 0.1861 - accuracy: 0.9444 - val_loss: 0.3350 - val_accuracy: 0.9028\n",
      "Epoch 84/100\n",
      "144/144 [==============================] - 0s 528us/sample - loss: 0.1847 - accuracy: 0.9444 - val_loss: 0.3357 - val_accuracy: 0.9028\n",
      "Epoch 85/100\n",
      "144/144 [==============================] - 0s 368us/sample - loss: 0.1825 - accuracy: 0.9444 - val_loss: 0.3381 - val_accuracy: 0.9028\n",
      "Epoch 86/100\n",
      "144/144 [==============================] - 0s 326us/sample - loss: 0.1814 - accuracy: 0.9444 - val_loss: 0.3387 - val_accuracy: 0.9028\n",
      "Epoch 87/100\n",
      "144/144 [==============================] - 0s 313us/sample - loss: 0.1803 - accuracy: 0.9444 - val_loss: 0.3406 - val_accuracy: 0.9028\n",
      "Epoch 88/100\n",
      "144/144 [==============================] - 0s 319us/sample - loss: 0.1787 - accuracy: 0.9444 - val_loss: 0.3420 - val_accuracy: 0.9028\n",
      "Epoch 89/100\n",
      "144/144 [==============================] - 0s 319us/sample - loss: 0.1773 - accuracy: 0.9514 - val_loss: 0.3424 - val_accuracy: 0.9028\n",
      "Epoch 90/100\n",
      "144/144 [==============================] - 0s 306us/sample - loss: 0.1759 - accuracy: 0.9514 - val_loss: 0.3447 - val_accuracy: 0.9028\n",
      "Epoch 91/100\n",
      "144/144 [==============================] - 0s 326us/sample - loss: 0.1750 - accuracy: 0.9514 - val_loss: 0.3470 - val_accuracy: 0.9028\n",
      "Epoch 92/100\n",
      "144/144 [==============================] - 0s 333us/sample - loss: 0.1734 - accuracy: 0.9514 - val_loss: 0.3463 - val_accuracy: 0.9028\n",
      "Epoch 93/100\n",
      "144/144 [==============================] - 0s 299us/sample - loss: 0.1726 - accuracy: 0.9514 - val_loss: 0.3484 - val_accuracy: 0.9028\n",
      "Epoch 94/100\n",
      "144/144 [==============================] - 0s 299us/sample - loss: 0.1707 - accuracy: 0.9514 - val_loss: 0.3509 - val_accuracy: 0.9028\n",
      "Epoch 95/100\n",
      "144/144 [==============================] - 0s 319us/sample - loss: 0.1696 - accuracy: 0.9444 - val_loss: 0.3527 - val_accuracy: 0.8889\n",
      "Epoch 96/100\n",
      "144/144 [==============================] - 0s 326us/sample - loss: 0.1682 - accuracy: 0.9514 - val_loss: 0.3542 - val_accuracy: 0.9028\n",
      "Epoch 97/100\n",
      "144/144 [==============================] - 0s 326us/sample - loss: 0.1673 - accuracy: 0.9514 - val_loss: 0.3563 - val_accuracy: 0.8889\n",
      "Epoch 98/100\n",
      "144/144 [==============================] - 0s 333us/sample - loss: 0.1655 - accuracy: 0.9514 - val_loss: 0.3578 - val_accuracy: 0.9028\n",
      "Epoch 99/100\n",
      "144/144 [==============================] - 0s 319us/sample - loss: 0.1643 - accuracy: 0.9514 - val_loss: 0.3590 - val_accuracy: 0.9028\n",
      "Epoch 100/100\n",
      "144/144 [==============================] - 0s 319us/sample - loss: 0.1632 - accuracy: 0.9514 - val_loss: 0.3606 - val_accuracy: 0.8889\n"
     ]
    },
    {
     "data": {
      "text/plain": [
       "<tensorflow.python.keras.callbacks.History at 0x18511908>"
      ]
     },
     "execution_count": 191,
     "metadata": {},
     "output_type": "execute_result"
    }
   ],
   "source": [
    "classifier.fit(X_train, y_train,validation_split=0.33, batch_size = 10, nb_epoch = 100)"
   ]
  },
  {
   "cell_type": "code",
   "execution_count": 193,
   "metadata": {},
   "outputs": [
    {
     "name": "stdout",
     "output_type": "stream",
     "text": [
      "0.7407407407407407\n"
     ]
    }
   ],
   "source": [
    "# Predicting the Test set results\n",
    "y_pred = classifier.predict(X_test)\n",
    "y_pred = (y_pred > 0.5)\n",
    "\n",
    "# Making the Confusion Matrix\n",
    "from sklearn.metrics import confusion_matrix\n",
    "cm = confusion_matrix(y_test, y_pred)\n",
    "\n",
    "# Calculate the Accuracy\n",
    "from sklearn.metrics import accuracy_score\n",
    "score=accuracy_score(y_pred,y_test)\n",
    "print(score)"
   ]
  },
  {
   "cell_type": "code",
   "execution_count": null,
   "metadata": {},
   "outputs": [],
   "source": []
  }
 ],
 "metadata": {
  "kernelspec": {
   "display_name": "Python 3",
   "language": "python",
   "name": "python3"
  },
  "language_info": {
   "codemirror_mode": {
    "name": "ipython",
    "version": 3
   },
   "file_extension": ".py",
   "mimetype": "text/x-python",
   "name": "python",
   "nbconvert_exporter": "python",
   "pygments_lexer": "ipython3",
   "version": "3.7.6"
  }
 },
 "nbformat": 4,
 "nbformat_minor": 4
}
